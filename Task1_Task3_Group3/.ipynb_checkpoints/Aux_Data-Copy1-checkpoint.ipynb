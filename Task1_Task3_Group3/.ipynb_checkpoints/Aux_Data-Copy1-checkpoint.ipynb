{
 "cells": [
  {
   "cell_type": "code",
   "execution_count": 6,
   "id": "29ef29af",
   "metadata": {},
   "outputs": [],
   "source": [
    "# import packages\n",
    "# !pip install category_encoders\n",
    "import numpy as np\n",
    "import pandas as pd\n",
    "from sklearn.preprocessing import MinMaxScaler, StandardScaler, OneHotEncoder\n",
    "import category_encoders as ce\n",
    "import seaborn as sns\n",
    "\n",
    "import matplotlib.pyplot as plt\n",
    "\n",
    "from sklearn.linear_model import LinearRegression\n",
    "\n",
    "from sklearn.model_selection import cross_val_score\n",
    "from sklearn.model_selection import KFold\n",
    "from geopy.distance import geodesic\n",
    "import geopy\n",
    "import networkx as nx\n",
    "\n",
    "\n",
    "# load data from csv\n",
    "commercial_center = pd.read_csv('./data/auxiliary-data/sg-commerical-centres.csv')\n",
    "# hawker_center = pd.read_csv('./data/auxiliary-data/sg-gov-markets-hawker-centres.csv')\n",
    "primary_school = pd.read_csv('./data/auxiliary-data/sg-primary-schools.csv')\n",
    "secondary_school = pd.read_csv('./data/auxiliary-data/sg-secondary-schools.csv')\n",
    "shopping_malls = pd.read_csv('./data/auxiliary-data/sg-shopping-malls.csv')\n",
    "train_station = pd.read_csv('./data/auxiliary-data/sg-mrt-stations.csv')"
   ]
  },
  {
   "cell_type": "code",
   "execution_count": 7,
   "id": "e393ee76",
   "metadata": {},
   "outputs": [],
   "source": [
    "cleaned_train_df = pd.read_csv('data/train.csv')\n",
    "cleaned_test_df = pd.read_csv('data/test.csv')"
   ]
  },
  {
   "cell_type": "code",
   "execution_count": 8,
   "id": "2e1ba0d2",
   "metadata": {},
   "outputs": [],
   "source": [
    "# duplicate dataset\n",
    "train_df = cleaned_train_df.copy()\n",
    "test_df = cleaned_test_df.copy()"
   ]
  },
  {
   "cell_type": "code",
   "execution_count": 9,
   "id": "1b84eeb5",
   "metadata": {},
   "outputs": [
    {
     "name": "stdout",
     "output_type": "stream",
     "text": [
      "(20254, 21)\n",
      "(6966, 20)\n"
     ]
    }
   ],
   "source": [
    "print(train_df.shape)\n",
    "print(test_df.shape)"
   ]
  },
  {
   "cell_type": "code",
   "execution_count": 10,
   "id": "d9a66d54",
   "metadata": {},
   "outputs": [
    {
     "data": {
      "text/html": [
       "<div>\n",
       "<style scoped>\n",
       "    .dataframe tbody tr th:only-of-type {\n",
       "        vertical-align: middle;\n",
       "    }\n",
       "\n",
       "    .dataframe tbody tr th {\n",
       "        vertical-align: top;\n",
       "    }\n",
       "\n",
       "    .dataframe thead th {\n",
       "        text-align: right;\n",
       "    }\n",
       "</style>\n",
       "<table border=\"1\" class=\"dataframe\">\n",
       "  <thead>\n",
       "    <tr style=\"text-align: right;\">\n",
       "      <th></th>\n",
       "      <th>listing_id</th>\n",
       "      <th>title</th>\n",
       "      <th>address</th>\n",
       "      <th>property_name</th>\n",
       "      <th>property_type</th>\n",
       "      <th>tenure</th>\n",
       "      <th>built_year</th>\n",
       "      <th>num_beds</th>\n",
       "      <th>num_baths</th>\n",
       "      <th>size_sqft</th>\n",
       "      <th>...</th>\n",
       "      <th>furnishing</th>\n",
       "      <th>available_unit_types</th>\n",
       "      <th>total_num_units</th>\n",
       "      <th>property_details_url</th>\n",
       "      <th>lat</th>\n",
       "      <th>lng</th>\n",
       "      <th>elevation</th>\n",
       "      <th>subzone</th>\n",
       "      <th>planning_area</th>\n",
       "      <th>price</th>\n",
       "    </tr>\n",
       "  </thead>\n",
       "  <tbody>\n",
       "    <tr>\n",
       "      <th>0</th>\n",
       "      <td>122881</td>\n",
       "      <td>hdb flat for sale in 866 yishun street 81</td>\n",
       "      <td>sembawang / yishun (d27)</td>\n",
       "      <td>866 yishun street 81</td>\n",
       "      <td>hdb 4 rooms</td>\n",
       "      <td>NaN</td>\n",
       "      <td>1988.0</td>\n",
       "      <td>3.0</td>\n",
       "      <td>2.0</td>\n",
       "      <td>1115</td>\n",
       "      <td>...</td>\n",
       "      <td>unspecified</td>\n",
       "      <td>NaN</td>\n",
       "      <td>116.0</td>\n",
       "      <td>https://www.99.co/singapore/hdb/866-yishun-str...</td>\n",
       "      <td>1.414399</td>\n",
       "      <td>103.837196</td>\n",
       "      <td>0</td>\n",
       "      <td>yishun south</td>\n",
       "      <td>yishun</td>\n",
       "      <td>514500.0</td>\n",
       "    </tr>\n",
       "    <tr>\n",
       "      <th>1</th>\n",
       "      <td>259374</td>\n",
       "      <td>hdb flat for sale in 506b serangoon north aven...</td>\n",
       "      <td>hougang / punggol / sengkang (d19)</td>\n",
       "      <td>hdb-serangoon estate</td>\n",
       "      <td>hdb</td>\n",
       "      <td>99-year leasehold</td>\n",
       "      <td>1992.0</td>\n",
       "      <td>4.0</td>\n",
       "      <td>2.0</td>\n",
       "      <td>1575</td>\n",
       "      <td>...</td>\n",
       "      <td>unspecified</td>\n",
       "      <td>1, 2, 3, 4, 5, 6 br</td>\n",
       "      <td>NaN</td>\n",
       "      <td>https://www.99.co/singapore/hdb/hdbserangoon-e...</td>\n",
       "      <td>1.372597</td>\n",
       "      <td>103.875625</td>\n",
       "      <td>0</td>\n",
       "      <td>serangoon north</td>\n",
       "      <td>serangoon</td>\n",
       "      <td>995400.0</td>\n",
       "    </tr>\n",
       "    <tr>\n",
       "      <th>2</th>\n",
       "      <td>665422</td>\n",
       "      <td>4 bed condo for sale in meyerhouse</td>\n",
       "      <td>128 meyer road</td>\n",
       "      <td>meyerhouse</td>\n",
       "      <td>condo</td>\n",
       "      <td>freehold</td>\n",
       "      <td>2022.0</td>\n",
       "      <td>4.0</td>\n",
       "      <td>6.0</td>\n",
       "      <td>3070</td>\n",
       "      <td>...</td>\n",
       "      <td>partial</td>\n",
       "      <td>studio, 3, 4, 5, 6 br</td>\n",
       "      <td>56.0</td>\n",
       "      <td>https://www.99.co/singapore/condos-apartments/...</td>\n",
       "      <td>1.298773</td>\n",
       "      <td>103.895798</td>\n",
       "      <td>0</td>\n",
       "      <td>mountbatten</td>\n",
       "      <td>marine parade</td>\n",
       "      <td>8485000.0</td>\n",
       "    </tr>\n",
       "    <tr>\n",
       "      <th>3</th>\n",
       "      <td>857699</td>\n",
       "      <td>3 bed condo for sale in leedon green</td>\n",
       "      <td>26 leedon heights</td>\n",
       "      <td>leedon green</td>\n",
       "      <td>Condo</td>\n",
       "      <td>freehold</td>\n",
       "      <td>2023.0</td>\n",
       "      <td>3.0</td>\n",
       "      <td>2.0</td>\n",
       "      <td>958</td>\n",
       "      <td>...</td>\n",
       "      <td>partial</td>\n",
       "      <td>studio, 1, 2, 3, 4 br</td>\n",
       "      <td>638.0</td>\n",
       "      <td>https://www.99.co/singapore/condos-apartments/...</td>\n",
       "      <td>1.312364</td>\n",
       "      <td>103.803271</td>\n",
       "      <td>0</td>\n",
       "      <td>farrer court</td>\n",
       "      <td>bukit timah</td>\n",
       "      <td>2626000.0</td>\n",
       "    </tr>\n",
       "    <tr>\n",
       "      <th>4</th>\n",
       "      <td>216061</td>\n",
       "      <td>2 bed condo for sale in one bernam</td>\n",
       "      <td>1 bernam street</td>\n",
       "      <td>one bernam</td>\n",
       "      <td>condo</td>\n",
       "      <td>99-year leasehold</td>\n",
       "      <td>2026.0</td>\n",
       "      <td>2.0</td>\n",
       "      <td>1.0</td>\n",
       "      <td>732</td>\n",
       "      <td>...</td>\n",
       "      <td>unspecified</td>\n",
       "      <td>studio, 1, 2, 3, 4, 5 br</td>\n",
       "      <td>351.0</td>\n",
       "      <td>https://www.99.co/singapore/condos-apartments/...</td>\n",
       "      <td>1.273959</td>\n",
       "      <td>103.843635</td>\n",
       "      <td>0</td>\n",
       "      <td>anson</td>\n",
       "      <td>downtown core</td>\n",
       "      <td>1764000.0</td>\n",
       "    </tr>\n",
       "  </tbody>\n",
       "</table>\n",
       "<p>5 rows × 21 columns</p>\n",
       "</div>"
      ],
      "text/plain": [
       "   listing_id                                              title  \\\n",
       "0      122881          hdb flat for sale in 866 yishun street 81   \n",
       "1      259374  hdb flat for sale in 506b serangoon north aven...   \n",
       "2      665422                 4 bed condo for sale in meyerhouse   \n",
       "3      857699               3 bed condo for sale in leedon green   \n",
       "4      216061                 2 bed condo for sale in one bernam   \n",
       "\n",
       "                              address         property_name property_type  \\\n",
       "0            sembawang / yishun (d27)  866 yishun street 81   hdb 4 rooms   \n",
       "1  hougang / punggol / sengkang (d19)  hdb-serangoon estate           hdb   \n",
       "2                      128 meyer road            meyerhouse         condo   \n",
       "3                   26 leedon heights          leedon green         Condo   \n",
       "4                     1 bernam street            one bernam         condo   \n",
       "\n",
       "              tenure  built_year  num_beds  num_baths  size_sqft  ...  \\\n",
       "0                NaN      1988.0       3.0        2.0       1115  ...   \n",
       "1  99-year leasehold      1992.0       4.0        2.0       1575  ...   \n",
       "2           freehold      2022.0       4.0        6.0       3070  ...   \n",
       "3           freehold      2023.0       3.0        2.0        958  ...   \n",
       "4  99-year leasehold      2026.0       2.0        1.0        732  ...   \n",
       "\n",
       "    furnishing      available_unit_types total_num_units  \\\n",
       "0  unspecified                       NaN           116.0   \n",
       "1  unspecified       1, 2, 3, 4, 5, 6 br             NaN   \n",
       "2      partial     studio, 3, 4, 5, 6 br            56.0   \n",
       "3      partial     studio, 1, 2, 3, 4 br           638.0   \n",
       "4  unspecified  studio, 1, 2, 3, 4, 5 br           351.0   \n",
       "\n",
       "                                property_details_url       lat         lng  \\\n",
       "0  https://www.99.co/singapore/hdb/866-yishun-str...  1.414399  103.837196   \n",
       "1  https://www.99.co/singapore/hdb/hdbserangoon-e...  1.372597  103.875625   \n",
       "2  https://www.99.co/singapore/condos-apartments/...  1.298773  103.895798   \n",
       "3  https://www.99.co/singapore/condos-apartments/...  1.312364  103.803271   \n",
       "4  https://www.99.co/singapore/condos-apartments/...  1.273959  103.843635   \n",
       "\n",
       "   elevation          subzone  planning_area      price  \n",
       "0          0     yishun south         yishun   514500.0  \n",
       "1          0  serangoon north      serangoon   995400.0  \n",
       "2          0      mountbatten  marine parade  8485000.0  \n",
       "3          0     farrer court    bukit timah  2626000.0  \n",
       "4          0            anson  downtown core  1764000.0  \n",
       "\n",
       "[5 rows x 21 columns]"
      ]
     },
     "execution_count": 10,
     "metadata": {},
     "output_type": "execute_result"
    }
   ],
   "source": [
    "train_df.head()"
   ]
  },
  {
   "cell_type": "code",
   "execution_count": 11,
   "id": "6aa55f8b",
   "metadata": {},
   "outputs": [
    {
     "name": "stdout",
     "output_type": "stream",
     "text": [
      "listing_id                int64\n",
      "title                    object\n",
      "address                  object\n",
      "property_name            object\n",
      "property_type            object\n",
      "tenure                   object\n",
      "built_year              float64\n",
      "num_beds                float64\n",
      "num_baths               float64\n",
      "size_sqft                 int64\n",
      "floor_level              object\n",
      "furnishing               object\n",
      "available_unit_types     object\n",
      "total_num_units         float64\n",
      "property_details_url     object\n",
      "lat                     float64\n",
      "lng                     float64\n",
      "elevation                 int64\n",
      "subzone                  object\n",
      "planning_area            object\n",
      "price                   float64\n",
      "dtype: object\n"
     ]
    }
   ],
   "source": [
    "print(train_df.dtypes)"
   ]
  },
  {
   "cell_type": "code",
   "execution_count": 12,
   "id": "4068400d",
   "metadata": {},
   "outputs": [],
   "source": [
    "# compute distance between locations\n",
    "def compute_distance(lat1, lng1, lat2, lng2):\n",
    "    c1 = (lat1, lng1)\n",
    "    c2 = (lat2, lng2)\n",
    "    return(geopy.distance.geodesic(c1, c2).km)"
   ]
  },
  {
   "cell_type": "code",
   "execution_count": 13,
   "id": "9ad0c87d",
   "metadata": {},
   "outputs": [],
   "source": [
    "lat = cleaned_train_df.lat\n",
    "lng = cleaned_train_df.lng"
   ]
  },
  {
   "cell_type": "code",
   "execution_count": 14,
   "id": "4ec771c2",
   "metadata": {},
   "outputs": [
    {
     "data": {
      "text/plain": [
       "6.297250231498214"
      ]
     },
     "execution_count": 14,
     "metadata": {},
     "output_type": "execute_result"
    }
   ],
   "source": [
    "compute_distance(lat[0], lng[0], lat[1], lng[1])"
   ]
  },
  {
   "cell_type": "code",
   "execution_count": 15,
   "id": "2d49f01e",
   "metadata": {},
   "outputs": [],
   "source": [
    "def np_vec_impl(lat, lng, df, i):\n",
    "    return np.vectorize(compute_distance)(lat, lng, df['lat'][i], df['lng'][i])"
   ]
  },
  {
   "cell_type": "code",
   "execution_count": 16,
   "id": "e29ce04e",
   "metadata": {},
   "outputs": [],
   "source": [
    "def compute_auxiliary(lat, lng):\n",
    "    # initialization\n",
    "    near_cc = np.zeros(len(lat))\n",
    "#     near_hc = np.zeros(len(lat))\n",
    "    near_ps = np.zeros(len(lat))\n",
    "    near_ss = np.zeros(len(lat))\n",
    "    near_sm = np.zeros(len(lat))\n",
    "    near_ts = np.zeros(len(lat))\n",
    "    \n",
    "    dist_cc = np.zeros(len(lat))+1000\n",
    "#     dist_hc = np.zeros(len(lat))+1000\n",
    "    dist_ps = np.zeros(len(lat))+1000\n",
    "    dist_ss = np.zeros(len(lat))+1000\n",
    "    dist_sm = np.zeros(len(lat))+1000\n",
    "    dist_ts = np.zeros(len(lat))+1000\n",
    "    \n",
    "#     for i in range(len(hawker_center)):\n",
    "#         d = np_vec_impl(lat, lng, hawker_center, i)\n",
    "#         within = d < 1.5\n",
    "#         dist_hc[(d < dist_hc)] = d[(d < dist_hc)]\n",
    "#         near_hc[within] += 1\n",
    "    \n",
    "    for i in range(len(commercial_center)):\n",
    "        d = np_vec_impl(lat, lng, commercial_center, i)\n",
    "        within = d < 3.0\n",
    "        dist_cc[(d < dist_cc)] = d[(d < dist_cc)]\n",
    "        near_cc[within] += 1\n",
    "    \n",
    "    for i in range(len(primary_school)):\n",
    "        d = np_vec_impl(lat, lng, primary_school, i)\n",
    "        within = d < 3.0\n",
    "        dist_ps[(d < dist_ps)] = d[(d < dist_ps)]\n",
    "        near_ps[within] += 1\n",
    "    \n",
    "    for i in range(len(secondary_school)):\n",
    "        d = np_vec_impl(lat, lng, secondary_school, i)\n",
    "        within = d < 3.0\n",
    "        dist_ss[(d < dist_ss)] = d[(d < dist_ss)]\n",
    "        near_ss[within] += 1\n",
    "        \n",
    "    for i in range(len(shopping_malls)):\n",
    "        d = np_vec_impl(lat, lng, shopping_malls, i)\n",
    "        within = d < 2.0\n",
    "        dist_sm[(d < dist_sm)] = d[(d < dist_sm)]\n",
    "        near_sm[within] += 1\n",
    "\n",
    "\n",
    "    for i in range(len(train_station)):\n",
    "        d = np_vec_impl(lat, lng, train_station, i)\n",
    "        within = d < 1.5\n",
    "        dist_ts[(d < dist_ts)] = d[(d < dist_ts)]\n",
    "        near_ts[within] += 1\n",
    "        \n",
    "    d = {'num_comercial_3km': near_cc, 'num_primary_3km': near_ps, 'num_secondary_3km': near_ss, 'num_mall_2km': near_sm, 'num_mrt_1.5km': near_ts}\n",
    "\n",
    "    num_of_amenties_test = pd.DataFrame(data=d)\n",
    "    \n",
    "    d = {'closest_comercial': dist_cc,'closest_primary': dist_ps, 'closest_secondary': dist_ss,'closest_mall': dist_sm, 'closest_mrt': dist_ts}\n",
    "\n",
    "    closest_distance_test = pd.DataFrame(data=d)\n",
    "    return num_of_amenties_test, closest_distance_test"
   ]
  },
  {
   "cell_type": "code",
   "execution_count": 17,
   "id": "f3cc2ef3",
   "metadata": {},
   "outputs": [],
   "source": [
    "near_cc = np.zeros(len(lat))\n",
    "near_ps = np.zeros(len(lat))\n",
    "near_ss = np.zeros(len(lat))\n",
    "near_sm = np.zeros(len(lat))\n",
    "near_ts = np.zeros(len(lat))"
   ]
  },
  {
   "cell_type": "code",
   "execution_count": 18,
   "id": "de7deab7",
   "metadata": {},
   "outputs": [],
   "source": [
    "dist_cc = np.zeros(len(lat))+1000\n",
    "dist_ps = np.zeros(len(lat))+1000\n",
    "dist_ss = np.zeros(len(lat))+1000\n",
    "dist_sm = np.zeros(len(lat))+1000\n",
    "dist_ts = np.zeros(len(lat))+1000"
   ]
  },
  {
   "cell_type": "code",
   "execution_count": 21,
   "id": "28b63a04",
   "metadata": {},
   "outputs": [],
   "source": [
    "num_of_amenties_test, closest_distance_test = compute_auxiliary(lat,lng)"
   ]
  },
  {
   "cell_type": "code",
   "execution_count": 24,
   "id": "d3df58c6",
   "metadata": {},
   "outputs": [
    {
     "name": "stdout",
     "output_type": "stream",
     "text": [
      "0\n",
      "cost time: 103.45691013336182\n"
     ]
    }
   ],
   "source": [
    "import time\n",
    "start = time.time()\n",
    "for i in range(len(commercial_center)):\n",
    "    d = np_vec_impl(lat, lng, commercial_center, i)\n",
    "    within = d < 3.0\n",
    "    dist_cc[(d < dist_cc)] = d[(d < dist_cc)]\n",
    "    near_cc[within] += 1\n",
    "print(f'cost time: {time.time() - start}')"
   ]
  },
  {
   "cell_type": "code",
   "execution_count": null,
   "id": "e2304aca",
   "metadata": {},
   "outputs": [],
   "source": []
  },
  {
   "cell_type": "code",
   "execution_count": 31,
   "id": "a8c3e149",
   "metadata": {},
   "outputs": [
    {
     "name": "stdout",
     "output_type": "stream",
     "text": [
      "cost time: 680.4127485752106\n"
     ]
    }
   ],
   "source": [
    "for i in range(len(primary_school)):\n",
    "    d = np_vec_impl(lat, lng, primary_school, i)\n",
    "    within = d < 3.0\n",
    "    dist_ps[(d < dist_ps)] = d[(d < dist_ps)]\n",
    "    near_ps[within] += 1\n",
    "print(f'cost time: {time.time() - start}')"
   ]
  },
  {
   "cell_type": "code",
   "execution_count": 32,
   "id": "443bbc1e",
   "metadata": {},
   "outputs": [
    {
     "name": "stdout",
     "output_type": "stream",
     "text": [
      "cost time: 1082.7566471099854\n"
     ]
    }
   ],
   "source": [
    "for i in range(len(secondary_school)):\n",
    "    d = np_vec_impl(lat, lng, secondary_school, i)\n",
    "    within = d < 3.0\n",
    "    dist_ss[(d < dist_ss)] = d[(d < dist_ss)]\n",
    "    near_ss[within] += 1\n",
    "print(f'cost time: {time.time() - start}')"
   ]
  },
  {
   "cell_type": "code",
   "execution_count": null,
   "id": "f41d15ff",
   "metadata": {},
   "outputs": [],
   "source": [
    "for i in range(len(shopping_malls)):\n",
    "    d = np_vec_impl(lat, lng, shopping_malls, i)\n",
    "    within = d < 2.0\n",
    "    dist_sm[(d < dist_sm)] = d[(d < dist_sm)]\n",
    "    near_sm[within] += 1\n",
    "    \n",
    "    \n",
    "for i in range(len(train_station)):\n",
    "    d = np_vec_impl(lat, lng, train_station, i)\n",
    "    within = d < 1.5\n",
    "    dist_ts[(d < dist_ts)] = d[(d < dist_ts)]\n",
    "    near_ts[within] += 1"
   ]
  },
  {
   "cell_type": "code",
   "execution_count": null,
   "id": "0e97c0e3",
   "metadata": {},
   "outputs": [],
   "source": [
    "# dataframe to store number of amenties\n",
    "\n",
    "d = {'num_comercial_3km': near_cc, 'num_primary_3km': near_ps, 'num_secondary_3km': near_ss, 'num_mall_2km': near_sm, 'num_mrt_1.5km': near_ts}\n",
    "\n",
    "num_of_amenties = pd.DataFrame(data=d)\n",
    "num_of_amenties"
   ]
  },
  {
   "cell_type": "code",
   "execution_count": null,
   "id": "16684a76",
   "metadata": {},
   "outputs": [],
   "source": [
    "d2 = {'closest_comercial': dist_cc,'closest_primary': dist_ps, 'closest_secondary': dist_ss,'closest_mall': dist_sm, 'closest_mrt': dist_ts}\n",
    "\n",
    "closest_distance = pd.DataFrame(data=d2)\n",
    "closest_distance"
   ]
  },
  {
   "cell_type": "code",
   "execution_count": null,
   "id": "f2e28758",
   "metadata": {},
   "outputs": [],
   "source": [
    "filepath = './data/auxiliary-number-amenties-test.csv'\n",
    "num_of_amenties_test.to_csv(filepath, index=True)\n",
    "\n",
    "filepath = './data/auxiliary-distance-amenties-test.csv'\n",
    "closest_distance_test.to_csv(filepath, index=True)"
   ]
  }
 ],
 "metadata": {
  "kernelspec": {
   "display_name": "Python 3 (ipykernel)",
   "language": "python",
   "name": "python3"
  },
  "language_info": {
   "codemirror_mode": {
    "name": "ipython",
    "version": 3
   },
   "file_extension": ".py",
   "mimetype": "text/x-python",
   "name": "python",
   "nbconvert_exporter": "python",
   "pygments_lexer": "ipython3",
   "version": "3.9.12"
  }
 },
 "nbformat": 4,
 "nbformat_minor": 5
}
